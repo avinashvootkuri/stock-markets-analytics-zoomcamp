{
 "cells": [
  {
   "attachments": {},
   "cell_type": "markdown",
   "metadata": {},
   "source": [
    "### Question 1: [Macro] Average growth of GDP in 2023\n",
    "\n",
    "**What is the average growth (in %) of GDP in 2023?**\n",
    "\n",
    "Download the timeseries Real Gross Domestic Product (GDPC1) from FRED (https://fred.stlouisfed.org/series/GDPC1). \n",
    "Calculate year-over-year (YoY) growth rate (that is, divide current value to one 4 quarters ago). Find the average YoY growth in 2023 (average from 4 YoY numbers).\n",
    "Round to 1 digit after the decimal point: e.g. if you get 5.66% growth => you should answer  5.7"
   ]
  },
  {
   "cell_type": "code",
   "execution_count": 1,
   "metadata": {},
   "outputs": [],
   "source": [
    "# IMPORTS\n",
    "import numpy as np\n",
    "import pandas as pd\n",
    "\n",
    "#Fin Data Sources\n",
    "import yfinance as yf\n",
    "import pandas_datareader as pdr\n",
    "\n",
    "#Data viz\n",
    "import plotly.graph_objs as go\n",
    "import plotly.express as px\n",
    "\n",
    "import time\n",
    "from datetime import date"
   ]
  },
  {
   "cell_type": "code",
   "execution_count": 2,
   "metadata": {},
   "outputs": [
    {
     "name": "stdout",
     "output_type": "stream",
     "text": [
      "Year = 2024; month= 4; day=23\n",
      "Period for indexes: 1954-04-23 to 2024-04-23 \n"
     ]
    }
   ],
   "source": [
    "\n",
    "end = date.today()\n",
    "print(f'Year = {end.year}; month= {end.month}; day={end.day}')\n",
    "\n",
    "start = date(year=end.year-70, month=end.month, day=end.day)\n",
    "print(f'Period for indexes: {start} to {end} ')\n",
    "     "
   ]
  },
  {
   "cell_type": "code",
   "execution_count": 3,
   "metadata": {},
   "outputs": [],
   "source": [
    "# https://fred.stlouisfed.org/series/GDPC1\n",
    "gdpc1 = pdr.DataReader(\"GDPC1\", \"fred\", start=start)"
   ]
  },
  {
   "cell_type": "code",
   "execution_count": 5,
   "metadata": {},
   "outputs": [
    {
     "data": {
      "text/html": [
       "<div>\n",
       "<style scoped>\n",
       "    .dataframe tbody tr th:only-of-type {\n",
       "        vertical-align: middle;\n",
       "    }\n",
       "\n",
       "    .dataframe tbody tr th {\n",
       "        vertical-align: top;\n",
       "    }\n",
       "\n",
       "    .dataframe thead th {\n",
       "        text-align: right;\n",
       "    }\n",
       "</style>\n",
       "<table border=\"1\" class=\"dataframe\">\n",
       "  <thead>\n",
       "    <tr style=\"text-align: right;\">\n",
       "      <th></th>\n",
       "      <th>GDPC1</th>\n",
       "    </tr>\n",
       "    <tr>\n",
       "      <th>DATE</th>\n",
       "      <th></th>\n",
       "    </tr>\n",
       "  </thead>\n",
       "  <tbody>\n",
       "    <tr>\n",
       "      <th>2023-01-01</th>\n",
       "      <td>22112.329</td>\n",
       "    </tr>\n",
       "    <tr>\n",
       "      <th>2023-04-01</th>\n",
       "      <td>22225.350</td>\n",
       "    </tr>\n",
       "    <tr>\n",
       "      <th>2023-07-01</th>\n",
       "      <td>22490.692</td>\n",
       "    </tr>\n",
       "    <tr>\n",
       "      <th>2023-10-01</th>\n",
       "      <td>22679.255</td>\n",
       "    </tr>\n",
       "  </tbody>\n",
       "</table>\n",
       "</div>"
      ],
      "text/plain": [
       "                GDPC1\n",
       "DATE                 \n",
       "2023-01-01  22112.329\n",
       "2023-04-01  22225.350\n",
       "2023-07-01  22490.692\n",
       "2023-10-01  22679.255"
      ]
     },
     "execution_count": 5,
     "metadata": {},
     "output_type": "execute_result"
    }
   ],
   "source": [
    "gdpc1.tail(4)"
   ]
  },
  {
   "cell_type": "code",
   "execution_count": 11,
   "metadata": {},
   "outputs": [
    {
     "data": {
      "text/html": [
       "<div>\n",
       "<style scoped>\n",
       "    .dataframe tbody tr th:only-of-type {\n",
       "        vertical-align: middle;\n",
       "    }\n",
       "\n",
       "    .dataframe tbody tr th {\n",
       "        vertical-align: top;\n",
       "    }\n",
       "\n",
       "    .dataframe thead th {\n",
       "        text-align: right;\n",
       "    }\n",
       "</style>\n",
       "<table border=\"1\" class=\"dataframe\">\n",
       "  <thead>\n",
       "    <tr style=\"text-align: right;\">\n",
       "      <th></th>\n",
       "      <th>GDPC1</th>\n",
       "      <th>gdppot_us_yoy</th>\n",
       "      <th>gdppot_us_qoq</th>\n",
       "    </tr>\n",
       "    <tr>\n",
       "      <th>DATE</th>\n",
       "      <th></th>\n",
       "      <th></th>\n",
       "      <th></th>\n",
       "    </tr>\n",
       "  </thead>\n",
       "  <tbody>\n",
       "    <tr>\n",
       "      <th>2022-01-01</th>\n",
       "      <td>21738.871</td>\n",
       "      <td>3.565082</td>\n",
       "      <td>3.565082</td>\n",
       "    </tr>\n",
       "    <tr>\n",
       "      <th>2022-04-01</th>\n",
       "      <td>21708.160</td>\n",
       "      <td>1.870598</td>\n",
       "      <td>1.870598</td>\n",
       "    </tr>\n",
       "    <tr>\n",
       "      <th>2022-07-01</th>\n",
       "      <td>21851.134</td>\n",
       "      <td>1.713213</td>\n",
       "      <td>1.713213</td>\n",
       "    </tr>\n",
       "    <tr>\n",
       "      <th>2022-10-01</th>\n",
       "      <td>21989.981</td>\n",
       "      <td>0.651692</td>\n",
       "      <td>0.651692</td>\n",
       "    </tr>\n",
       "    <tr>\n",
       "      <th>2023-01-01</th>\n",
       "      <td>22112.329</td>\n",
       "      <td>1.717927</td>\n",
       "      <td>1.717927</td>\n",
       "    </tr>\n",
       "    <tr>\n",
       "      <th>2023-04-01</th>\n",
       "      <td>22225.350</td>\n",
       "      <td>2.382468</td>\n",
       "      <td>2.382468</td>\n",
       "    </tr>\n",
       "    <tr>\n",
       "      <th>2023-07-01</th>\n",
       "      <td>22490.692</td>\n",
       "      <td>2.926887</td>\n",
       "      <td>2.926887</td>\n",
       "    </tr>\n",
       "    <tr>\n",
       "      <th>2023-10-01</th>\n",
       "      <td>22679.255</td>\n",
       "      <td>3.134491</td>\n",
       "      <td>3.134491</td>\n",
       "    </tr>\n",
       "  </tbody>\n",
       "</table>\n",
       "</div>"
      ],
      "text/plain": [
       "                GDPC1  gdppot_us_yoy  gdppot_us_qoq\n",
       "DATE                                               \n",
       "2022-01-01  21738.871       3.565082       3.565082\n",
       "2022-04-01  21708.160       1.870598       1.870598\n",
       "2022-07-01  21851.134       1.713213       1.713213\n",
       "2022-10-01  21989.981       0.651692       0.651692\n",
       "2023-01-01  22112.329       1.717927       1.717927\n",
       "2023-04-01  22225.350       2.382468       2.382468\n",
       "2023-07-01  22490.692       2.926887       2.926887\n",
       "2023-10-01  22679.255       3.134491       3.134491"
      ]
     },
     "execution_count": 11,
     "metadata": {},
     "output_type": "execute_result"
    }
   ],
   "source": [
    "gdpc1['gdppot_us_yoy'] = (gdpc1.GDPC1/gdpc1.GDPC1.shift(4)-1)*100\n",
    "gdpc1['gdppot_us_qoq'] = (gdpc1.GDPC1/gdpc1.GDPC1.shift(4)-1)*100\n",
    "gdpc1.tail(8)"
   ]
  },
  {
   "cell_type": "code",
   "execution_count": 15,
   "metadata": {},
   "outputs": [
    {
     "name": "stdout",
     "output_type": "stream",
     "text": [
      "2.5404433928676253\n"
     ]
    }
   ],
   "source": [
    "avg_gdpc1_us_2023 = gdpc1[-4:]['gdppot_us_yoy'].mean()\n",
    "print(avg_gdpc1_us_2023)"
   ]
  },
  {
   "cell_type": "code",
   "execution_count": 16,
   "metadata": {},
   "outputs": [
    {
     "data": {
      "text/plain": [
       "2.5"
      ]
     },
     "execution_count": 16,
     "metadata": {},
     "output_type": "execute_result"
    }
   ],
   "source": [
    "round(avg_gdpc1_us_2023,1)"
   ]
  },
  {
   "attachments": {},
   "cell_type": "markdown",
   "metadata": {},
   "source": [
    "### Question 2. [Macro] Inverse \"Treasury Yield\"\n",
    "\n",
    "Find the min value of (dgs10-dgs2) after since year 2000 (2000-01-01) and write it down as an answer, round to 1 digit after the decimal point.\n",
    "\n",
    "Download DGS2 and DGS10 interest rates series (https://fred.stlouisfed.org/series/DGS2, https://fred.stlouisfed.org/series/DGS10). Join them together to one dataframe on date (you might need to read about pandas.DataFrame.join()), calculate the difference dgs10-dgs2 daily.\n",
    "\n",
    "(Additional: think about what does the \"inverted yield curve\" mean for the market and investors? do you see the same thing in your country/market of interest? Do you think it can be a good predictive feature for the models?)"
   ]
  },
  {
   "cell_type": "code",
   "execution_count": 19,
   "metadata": {},
   "outputs": [
    {
     "name": "stdout",
     "output_type": "stream",
     "text": [
      "2000-01-01\n"
     ]
    }
   ],
   "source": [
    "start_Q2 = date(year=2000, month=1, day=1)\n",
    "print(start_Q2)"
   ]
  },
  {
   "cell_type": "code",
   "execution_count": 20,
   "metadata": {},
   "outputs": [
    {
     "data": {
      "text/html": [
       "<div>\n",
       "<style scoped>\n",
       "    .dataframe tbody tr th:only-of-type {\n",
       "        vertical-align: middle;\n",
       "    }\n",
       "\n",
       "    .dataframe tbody tr th {\n",
       "        vertical-align: top;\n",
       "    }\n",
       "\n",
       "    .dataframe thead th {\n",
       "        text-align: right;\n",
       "    }\n",
       "</style>\n",
       "<table border=\"1\" class=\"dataframe\">\n",
       "  <thead>\n",
       "    <tr style=\"text-align: right;\">\n",
       "      <th></th>\n",
       "      <th>DGS2</th>\n",
       "    </tr>\n",
       "    <tr>\n",
       "      <th>DATE</th>\n",
       "      <th></th>\n",
       "    </tr>\n",
       "  </thead>\n",
       "  <tbody>\n",
       "    <tr>\n",
       "      <th>2024-04-16</th>\n",
       "      <td>4.97</td>\n",
       "    </tr>\n",
       "    <tr>\n",
       "      <th>2024-04-17</th>\n",
       "      <td>4.93</td>\n",
       "    </tr>\n",
       "    <tr>\n",
       "      <th>2024-04-18</th>\n",
       "      <td>4.98</td>\n",
       "    </tr>\n",
       "    <tr>\n",
       "      <th>2024-04-19</th>\n",
       "      <td>4.97</td>\n",
       "    </tr>\n",
       "    <tr>\n",
       "      <th>2024-04-22</th>\n",
       "      <td>4.97</td>\n",
       "    </tr>\n",
       "  </tbody>\n",
       "</table>\n",
       "</div>"
      ],
      "text/plain": [
       "            DGS2\n",
       "DATE            \n",
       "2024-04-16  4.97\n",
       "2024-04-17  4.93\n",
       "2024-04-18  4.98\n",
       "2024-04-19  4.97\n",
       "2024-04-22  4.97"
      ]
     },
     "execution_count": 20,
     "metadata": {},
     "output_type": "execute_result"
    }
   ],
   "source": [
    "dgs2 = pdr.DataReader(\"DGS2\", \"fred\", start=start_Q2)\n",
    "dgs2.tail()"
   ]
  },
  {
   "cell_type": "code",
   "execution_count": 21,
   "metadata": {},
   "outputs": [
    {
     "data": {
      "text/html": [
       "<div>\n",
       "<style scoped>\n",
       "    .dataframe tbody tr th:only-of-type {\n",
       "        vertical-align: middle;\n",
       "    }\n",
       "\n",
       "    .dataframe tbody tr th {\n",
       "        vertical-align: top;\n",
       "    }\n",
       "\n",
       "    .dataframe thead th {\n",
       "        text-align: right;\n",
       "    }\n",
       "</style>\n",
       "<table border=\"1\" class=\"dataframe\">\n",
       "  <thead>\n",
       "    <tr style=\"text-align: right;\">\n",
       "      <th></th>\n",
       "      <th>DGS10</th>\n",
       "    </tr>\n",
       "    <tr>\n",
       "      <th>DATE</th>\n",
       "      <th></th>\n",
       "    </tr>\n",
       "  </thead>\n",
       "  <tbody>\n",
       "    <tr>\n",
       "      <th>2024-04-16</th>\n",
       "      <td>4.67</td>\n",
       "    </tr>\n",
       "    <tr>\n",
       "      <th>2024-04-17</th>\n",
       "      <td>4.59</td>\n",
       "    </tr>\n",
       "    <tr>\n",
       "      <th>2024-04-18</th>\n",
       "      <td>4.64</td>\n",
       "    </tr>\n",
       "    <tr>\n",
       "      <th>2024-04-19</th>\n",
       "      <td>4.62</td>\n",
       "    </tr>\n",
       "    <tr>\n",
       "      <th>2024-04-22</th>\n",
       "      <td>4.62</td>\n",
       "    </tr>\n",
       "  </tbody>\n",
       "</table>\n",
       "</div>"
      ],
      "text/plain": [
       "            DGS10\n",
       "DATE             \n",
       "2024-04-16   4.67\n",
       "2024-04-17   4.59\n",
       "2024-04-18   4.64\n",
       "2024-04-19   4.62\n",
       "2024-04-22   4.62"
      ]
     },
     "execution_count": 21,
     "metadata": {},
     "output_type": "execute_result"
    }
   ],
   "source": [
    "dgs10 = pdr.DataReader(\"DGS10\", \"fred\", start=start_Q2)\n",
    "dgs10.tail()"
   ]
  },
  {
   "cell_type": "code",
   "execution_count": 22,
   "metadata": {},
   "outputs": [
    {
     "data": {
      "text/html": [
       "<div>\n",
       "<style scoped>\n",
       "    .dataframe tbody tr th:only-of-type {\n",
       "        vertical-align: middle;\n",
       "    }\n",
       "\n",
       "    .dataframe tbody tr th {\n",
       "        vertical-align: top;\n",
       "    }\n",
       "\n",
       "    .dataframe thead th {\n",
       "        text-align: right;\n",
       "    }\n",
       "</style>\n",
       "<table border=\"1\" class=\"dataframe\">\n",
       "  <thead>\n",
       "    <tr style=\"text-align: right;\">\n",
       "      <th></th>\n",
       "      <th>DGS10</th>\n",
       "      <th>DGS2</th>\n",
       "    </tr>\n",
       "    <tr>\n",
       "      <th>DATE</th>\n",
       "      <th></th>\n",
       "      <th></th>\n",
       "    </tr>\n",
       "  </thead>\n",
       "  <tbody>\n",
       "    <tr>\n",
       "      <th>2024-04-16</th>\n",
       "      <td>4.67</td>\n",
       "      <td>4.97</td>\n",
       "    </tr>\n",
       "    <tr>\n",
       "      <th>2024-04-17</th>\n",
       "      <td>4.59</td>\n",
       "      <td>4.93</td>\n",
       "    </tr>\n",
       "    <tr>\n",
       "      <th>2024-04-18</th>\n",
       "      <td>4.64</td>\n",
       "      <td>4.98</td>\n",
       "    </tr>\n",
       "    <tr>\n",
       "      <th>2024-04-19</th>\n",
       "      <td>4.62</td>\n",
       "      <td>4.97</td>\n",
       "    </tr>\n",
       "    <tr>\n",
       "      <th>2024-04-22</th>\n",
       "      <td>4.62</td>\n",
       "      <td>4.97</td>\n",
       "    </tr>\n",
       "  </tbody>\n",
       "</table>\n",
       "</div>"
      ],
      "text/plain": [
       "            DGS10  DGS2\n",
       "DATE                   \n",
       "2024-04-16   4.67  4.97\n",
       "2024-04-17   4.59  4.93\n",
       "2024-04-18   4.64  4.98\n",
       "2024-04-19   4.62  4.97\n",
       "2024-04-22   4.62  4.97"
      ]
     },
     "execution_count": 22,
     "metadata": {},
     "output_type": "execute_result"
    }
   ],
   "source": [
    "joined_df = dgs10.join(dgs2)\n",
    "joined_df.tail()"
   ]
  },
  {
   "cell_type": "code",
   "execution_count": 24,
   "metadata": {},
   "outputs": [
    {
     "data": {
      "text/html": [
       "<div>\n",
       "<style scoped>\n",
       "    .dataframe tbody tr th:only-of-type {\n",
       "        vertical-align: middle;\n",
       "    }\n",
       "\n",
       "    .dataframe tbody tr th {\n",
       "        vertical-align: top;\n",
       "    }\n",
       "\n",
       "    .dataframe thead th {\n",
       "        text-align: right;\n",
       "    }\n",
       "</style>\n",
       "<table border=\"1\" class=\"dataframe\">\n",
       "  <thead>\n",
       "    <tr style=\"text-align: right;\">\n",
       "      <th></th>\n",
       "      <th>DGS10</th>\n",
       "      <th>DGS2</th>\n",
       "      <th>DGS10-DGS2</th>\n",
       "    </tr>\n",
       "    <tr>\n",
       "      <th>DATE</th>\n",
       "      <th></th>\n",
       "      <th></th>\n",
       "      <th></th>\n",
       "    </tr>\n",
       "  </thead>\n",
       "  <tbody>\n",
       "    <tr>\n",
       "      <th>2024-04-16</th>\n",
       "      <td>4.67</td>\n",
       "      <td>4.97</td>\n",
       "      <td>-0.3</td>\n",
       "    </tr>\n",
       "    <tr>\n",
       "      <th>2024-04-17</th>\n",
       "      <td>4.59</td>\n",
       "      <td>4.93</td>\n",
       "      <td>-0.3</td>\n",
       "    </tr>\n",
       "    <tr>\n",
       "      <th>2024-04-18</th>\n",
       "      <td>4.64</td>\n",
       "      <td>4.98</td>\n",
       "      <td>-0.3</td>\n",
       "    </tr>\n",
       "    <tr>\n",
       "      <th>2024-04-19</th>\n",
       "      <td>4.62</td>\n",
       "      <td>4.97</td>\n",
       "      <td>-0.3</td>\n",
       "    </tr>\n",
       "    <tr>\n",
       "      <th>2024-04-22</th>\n",
       "      <td>4.62</td>\n",
       "      <td>4.97</td>\n",
       "      <td>-0.3</td>\n",
       "    </tr>\n",
       "  </tbody>\n",
       "</table>\n",
       "</div>"
      ],
      "text/plain": [
       "            DGS10  DGS2  DGS10-DGS2\n",
       "DATE                               \n",
       "2024-04-16   4.67  4.97        -0.3\n",
       "2024-04-17   4.59  4.93        -0.3\n",
       "2024-04-18   4.64  4.98        -0.3\n",
       "2024-04-19   4.62  4.97        -0.3\n",
       "2024-04-22   4.62  4.97        -0.3"
      ]
     },
     "execution_count": 24,
     "metadata": {},
     "output_type": "execute_result"
    }
   ],
   "source": [
    "joined_df['DGS10-DGS2'] = round(joined_df['DGS10'] - joined_df['DGS2'], 1)\n",
    "joined_df.tail() "
   ]
  },
  {
   "cell_type": "code",
   "execution_count": 25,
   "metadata": {},
   "outputs": [
    {
     "data": {
      "text/plain": [
       "-1.1"
      ]
     },
     "execution_count": 25,
     "metadata": {},
     "output_type": "execute_result"
    }
   ],
   "source": [
    "joined_df['DGS10-DGS2'].min()"
   ]
  },
  {
   "attachments": {},
   "cell_type": "markdown",
   "metadata": {},
   "source": [
    "### Question 3. [Index] Which Index is better recently?\n",
    "\n",
    "Compare S&P 500 and IPC Mexico indexes by the 5 year growth and write down the largest value as an answer (%)\n",
    "\n",
    "Download on Yahoo Finance two daily index prices for S&P 500 (^GSPC, https://finance.yahoo.com/quote/%5EGSPC/) and IPC Mexico (^MXX, https://finance.yahoo.com/quote/%5EMXX/). Compare 5Y growth for both (between 2019-04-09 and 2024-04-09). Select the higher growing index and write down the growth in % (closest integer %). E.g. if ratio end/start was 2.0925 (or growth of 109.25%), you need to write down 109 as your answer.\n",
    "\n",
    "(Additional: think of other indexes and try to download stats and compare the growth? Do create 10Y and 20Y growth stats. What is an average yearly growth rate (CAGR) for each of the indexes you select?)"
   ]
  },
  {
   "cell_type": "code",
   "execution_count": null,
   "metadata": {},
   "outputs": [],
   "source": [
    "yf.download()"
   ]
  },
  {
   "cell_type": "code",
   "execution_count": 29,
   "metadata": {},
   "outputs": [
    {
     "name": "stderr",
     "output_type": "stream",
     "text": [
      "[*********************100%%**********************]  1 of 1 completed\n"
     ]
    }
   ],
   "source": [
    "snp500 = yf.download(tickers= \"^GSPC\",\n",
    "                     start=\"2019-04-09\", end=\"2024-04-10\",\n",
    "                     interval = \"1d\")\n",
    "                     "
   ]
  },
  {
   "cell_type": "code",
   "execution_count": 30,
   "metadata": {},
   "outputs": [
    {
     "data": {
      "text/html": [
       "<div>\n",
       "<style scoped>\n",
       "    .dataframe tbody tr th:only-of-type {\n",
       "        vertical-align: middle;\n",
       "    }\n",
       "\n",
       "    .dataframe tbody tr th {\n",
       "        vertical-align: top;\n",
       "    }\n",
       "\n",
       "    .dataframe thead th {\n",
       "        text-align: right;\n",
       "    }\n",
       "</style>\n",
       "<table border=\"1\" class=\"dataframe\">\n",
       "  <thead>\n",
       "    <tr style=\"text-align: right;\">\n",
       "      <th></th>\n",
       "      <th>Open</th>\n",
       "      <th>High</th>\n",
       "      <th>Low</th>\n",
       "      <th>Close</th>\n",
       "      <th>Adj Close</th>\n",
       "      <th>Volume</th>\n",
       "    </tr>\n",
       "    <tr>\n",
       "      <th>Date</th>\n",
       "      <th></th>\n",
       "      <th></th>\n",
       "      <th></th>\n",
       "      <th></th>\n",
       "      <th></th>\n",
       "      <th></th>\n",
       "    </tr>\n",
       "  </thead>\n",
       "  <tbody>\n",
       "    <tr>\n",
       "      <th>2024-04-03</th>\n",
       "      <td>5194.370117</td>\n",
       "      <td>5228.750000</td>\n",
       "      <td>5194.370117</td>\n",
       "      <td>5211.490234</td>\n",
       "      <td>5211.490234</td>\n",
       "      <td>3703250000</td>\n",
       "    </tr>\n",
       "    <tr>\n",
       "      <th>2024-04-04</th>\n",
       "      <td>5244.049805</td>\n",
       "      <td>5256.589844</td>\n",
       "      <td>5146.060059</td>\n",
       "      <td>5147.209961</td>\n",
       "      <td>5147.209961</td>\n",
       "      <td>4075680000</td>\n",
       "    </tr>\n",
       "    <tr>\n",
       "      <th>2024-04-05</th>\n",
       "      <td>5158.950195</td>\n",
       "      <td>5222.180176</td>\n",
       "      <td>5157.209961</td>\n",
       "      <td>5204.339844</td>\n",
       "      <td>5204.339844</td>\n",
       "      <td>3386780000</td>\n",
       "    </tr>\n",
       "    <tr>\n",
       "      <th>2024-04-08</th>\n",
       "      <td>5211.370117</td>\n",
       "      <td>5219.569824</td>\n",
       "      <td>5197.350098</td>\n",
       "      <td>5202.390137</td>\n",
       "      <td>5202.390137</td>\n",
       "      <td>3278180000</td>\n",
       "    </tr>\n",
       "    <tr>\n",
       "      <th>2024-04-09</th>\n",
       "      <td>5217.029785</td>\n",
       "      <td>5224.810059</td>\n",
       "      <td>5160.779785</td>\n",
       "      <td>5209.910156</td>\n",
       "      <td>5209.910156</td>\n",
       "      <td>3400680000</td>\n",
       "    </tr>\n",
       "  </tbody>\n",
       "</table>\n",
       "</div>"
      ],
      "text/plain": [
       "                   Open         High          Low        Close    Adj Close  \\\n",
       "Date                                                                          \n",
       "2024-04-03  5194.370117  5228.750000  5194.370117  5211.490234  5211.490234   \n",
       "2024-04-04  5244.049805  5256.589844  5146.060059  5147.209961  5147.209961   \n",
       "2024-04-05  5158.950195  5222.180176  5157.209961  5204.339844  5204.339844   \n",
       "2024-04-08  5211.370117  5219.569824  5197.350098  5202.390137  5202.390137   \n",
       "2024-04-09  5217.029785  5224.810059  5160.779785  5209.910156  5209.910156   \n",
       "\n",
       "                Volume  \n",
       "Date                    \n",
       "2024-04-03  3703250000  \n",
       "2024-04-04  4075680000  \n",
       "2024-04-05  3386780000  \n",
       "2024-04-08  3278180000  \n",
       "2024-04-09  3400680000  "
      ]
     },
     "execution_count": 30,
     "metadata": {},
     "output_type": "execute_result"
    }
   ],
   "source": [
    "snp500.tail()"
   ]
  },
  {
   "cell_type": "code",
   "execution_count": 31,
   "metadata": {},
   "outputs": [
    {
     "name": "stderr",
     "output_type": "stream",
     "text": [
      "[*********************100%%**********************]  1 of 1 completed\n"
     ]
    },
    {
     "data": {
      "text/html": [
       "<div>\n",
       "<style scoped>\n",
       "    .dataframe tbody tr th:only-of-type {\n",
       "        vertical-align: middle;\n",
       "    }\n",
       "\n",
       "    .dataframe tbody tr th {\n",
       "        vertical-align: top;\n",
       "    }\n",
       "\n",
       "    .dataframe thead th {\n",
       "        text-align: right;\n",
       "    }\n",
       "</style>\n",
       "<table border=\"1\" class=\"dataframe\">\n",
       "  <thead>\n",
       "    <tr style=\"text-align: right;\">\n",
       "      <th></th>\n",
       "      <th>Open</th>\n",
       "      <th>High</th>\n",
       "      <th>Low</th>\n",
       "      <th>Close</th>\n",
       "      <th>Adj Close</th>\n",
       "      <th>Volume</th>\n",
       "    </tr>\n",
       "    <tr>\n",
       "      <th>Date</th>\n",
       "      <th></th>\n",
       "      <th></th>\n",
       "      <th></th>\n",
       "      <th></th>\n",
       "      <th></th>\n",
       "      <th></th>\n",
       "    </tr>\n",
       "  </thead>\n",
       "  <tbody>\n",
       "    <tr>\n",
       "      <th>2024-04-03</th>\n",
       "      <td>57547.191406</td>\n",
       "      <td>58086.421875</td>\n",
       "      <td>57300.109375</td>\n",
       "      <td>57503.390625</td>\n",
       "      <td>57503.390625</td>\n",
       "      <td>189285300</td>\n",
       "    </tr>\n",
       "    <tr>\n",
       "      <th>2024-04-04</th>\n",
       "      <td>57539.468750</td>\n",
       "      <td>58219.500000</td>\n",
       "      <td>57514.179688</td>\n",
       "      <td>57882.761719</td>\n",
       "      <td>57882.761719</td>\n",
       "      <td>184739700</td>\n",
       "    </tr>\n",
       "    <tr>\n",
       "      <th>2024-04-05</th>\n",
       "      <td>57805.191406</td>\n",
       "      <td>58227.839844</td>\n",
       "      <td>57678.609375</td>\n",
       "      <td>58092.441406</td>\n",
       "      <td>58092.441406</td>\n",
       "      <td>212252300</td>\n",
       "    </tr>\n",
       "    <tr>\n",
       "      <th>2024-04-08</th>\n",
       "      <td>58021.660156</td>\n",
       "      <td>58192.320312</td>\n",
       "      <td>57749.441406</td>\n",
       "      <td>57989.941406</td>\n",
       "      <td>57989.941406</td>\n",
       "      <td>154641800</td>\n",
       "    </tr>\n",
       "    <tr>\n",
       "      <th>2024-04-09</th>\n",
       "      <td>58010.371094</td>\n",
       "      <td>58298.769531</td>\n",
       "      <td>57492.058594</td>\n",
       "      <td>57571.148438</td>\n",
       "      <td>57571.148438</td>\n",
       "      <td>202213300</td>\n",
       "    </tr>\n",
       "  </tbody>\n",
       "</table>\n",
       "</div>"
      ],
      "text/plain": [
       "                    Open          High           Low         Close  \\\n",
       "Date                                                                 \n",
       "2024-04-03  57547.191406  58086.421875  57300.109375  57503.390625   \n",
       "2024-04-04  57539.468750  58219.500000  57514.179688  57882.761719   \n",
       "2024-04-05  57805.191406  58227.839844  57678.609375  58092.441406   \n",
       "2024-04-08  58021.660156  58192.320312  57749.441406  57989.941406   \n",
       "2024-04-09  58010.371094  58298.769531  57492.058594  57571.148438   \n",
       "\n",
       "               Adj Close     Volume  \n",
       "Date                                 \n",
       "2024-04-03  57503.390625  189285300  \n",
       "2024-04-04  57882.761719  184739700  \n",
       "2024-04-05  58092.441406  212252300  \n",
       "2024-04-08  57989.941406  154641800  \n",
       "2024-04-09  57571.148438  202213300  "
      ]
     },
     "execution_count": 31,
     "metadata": {},
     "output_type": "execute_result"
    }
   ],
   "source": [
    "mxx = yf.download(tickers= \"^MXX\",\n",
    "                     start=\"2019-04-09\", end=\"2024-04-10\",\n",
    "                     interval = \"1d\")\n",
    "\n",
    "mxx.tail()"
   ]
  },
  {
   "cell_type": "code",
   "execution_count": 47,
   "metadata": {},
   "outputs": [],
   "source": [
    "def fiveY_growth(start_dt, end_dt, df):\n",
    "    ratio = df.loc[end_dt]['Close']/df.loc[start_dt]['Close']\n",
    "    return ratio\n",
    "    "
   ]
  },
  {
   "cell_type": "code",
   "execution_count": 48,
   "metadata": {},
   "outputs": [
    {
     "data": {
      "text/plain": [
       "1.8101279426847174"
      ]
     },
     "execution_count": 48,
     "metadata": {},
     "output_type": "execute_result"
    }
   ],
   "source": [
    "ratio_snp500 = fiveY_growth(start_dt='2019-04-09', end_dt='2024-04-09', df=snp500)\n",
    "ratio_snp500"
   ]
  },
  {
   "cell_type": "code",
   "execution_count": 49,
   "metadata": {},
   "outputs": [
    {
     "data": {
      "text/plain": [
       "1.2750624912566744"
      ]
     },
     "execution_count": 49,
     "metadata": {},
     "output_type": "execute_result"
    }
   ],
   "source": [
    "ratio_mxx = fiveY_growth(start_dt='2019-04-09', end_dt='2024-04-09', df=mxx)\n",
    "ratio_mxx"
   ]
  },
  {
   "attachments": {},
   "cell_type": "markdown",
   "metadata": {},
   "source": [
    "SNP500 grow by 81.01% whereas MXX grow by 27.5%"
   ]
  },
  {
   "attachments": {},
   "cell_type": "markdown",
   "metadata": {},
   "source": [
    "### Question 4. [Stocks OHLCV] 52-weeks range ratio (2023) for the selected stocks\n",
    "\n",
    "Find the largest range ratio [=(max-min)/max] of Adj.Close prices in 2023\n",
    "\n",
    "Download the 2023 daily OHLCV data on Yahoo Finance for top6 stocks on earnings (https://companiesmarketcap.com/most-profitable-companies/): 2222.SR,BRK-B, AAPL, MSFT, GOOG, JPM.\n",
    "\n",
    "Here is the example data you should see in Pandas for \"2222.SR\": https://finance.yahoo.com/quote/2222.SR/history\n",
    "\n",
    "Calculate maximum-minimim \"Adj.Close\" price for each stock and divide it by the maximum \"Adj.Close\" value. Round the result to two decimal places (e.g. 0.1575 will be 0.16)\n",
    "\n",
    "(Additional: why this may be important for your research?)"
   ]
  },
  {
   "cell_type": "code",
   "execution_count": 83,
   "metadata": {},
   "outputs": [
    {
     "name": "stderr",
     "output_type": "stream",
     "text": [
      "[*********************100%%**********************]  1 of 1 completed"
     ]
    },
    {
     "name": "stderr",
     "output_type": "stream",
     "text": [
      "\n",
      "[*********************100%%**********************]  1 of 1 completed\n",
      "[*********************100%%**********************]  1 of 1 completed\n",
      "[*********************100%%**********************]  1 of 1 completed\n",
      "[*********************100%%**********************]  1 of 1 completed\n",
      "[*********************100%%**********************]  1 of 1 completed\n"
     ]
    }
   ],
   "source": [
    "stocks = ['2222.SR','BRK-B','AAPL','MSFT','GOOG','JPM']\n",
    "\n",
    "# Dictionary to hold dataframes for each stock\n",
    "stock_dataframes = {}\n",
    "\n",
    "for symbol in stocks:\n",
    "    data =  yf.download(tickers= symbol,\n",
    "                     start=\"2023-01-01\", end=\"2023-12-31\",\n",
    "                     interval = \"1d\")\n",
    "    # Store data in a dataframe with stock symbol as the key\n",
    "    stock_dataframes[symbol] = data\n",
    "\n",
    "\n"
   ]
  },
  {
   "cell_type": "code",
   "execution_count": 84,
   "metadata": {},
   "outputs": [
    {
     "data": {
      "text/plain": [
       "pandas.core.frame.DataFrame"
      ]
     },
     "execution_count": 84,
     "metadata": {},
     "output_type": "execute_result"
    }
   ],
   "source": [
    "type(stock_dataframes['AAPL'])"
   ]
  },
  {
   "cell_type": "code",
   "execution_count": 69,
   "metadata": {},
   "outputs": [],
   "source": [
    "saudi_df = stock_dataframes['2222.SR']\n",
    "brk_df = stock_dataframes['BRK-B']\n",
    "aapl_df = stock_dataframes['AAPL']\n",
    "msft_df = stock_dataframes['MSFT']\n",
    "goog_df = stock_dataframes['GOOG']\n",
    "jpm_df = stock_dataframes['JPM']"
   ]
  },
  {
   "cell_type": "code",
   "execution_count": 89,
   "metadata": {},
   "outputs": [],
   "source": [
    "def largest_range_ratio(df, value):\n",
    "    largest = (df[value].max() - df[value].min())/df[value].max()\n",
    "    return round(largest,2)"
   ]
  },
  {
   "cell_type": "code",
   "execution_count": 90,
   "metadata": {},
   "outputs": [
    {
     "name": "stdout",
     "output_type": "stream",
     "text": [
      "2222.SR\n",
      "largest ratio for 2222.SR is 0.21\n",
      "BRK-B\n",
      "largest ratio for BRK-B is 0.21\n",
      "AAPL\n",
      "largest ratio for AAPL is 0.37\n",
      "MSFT\n",
      "largest ratio for MSFT is 0.42\n",
      "GOOG\n",
      "largest ratio for GOOG is 0.39\n",
      "JPM\n",
      "largest ratio for JPM is 0.28\n"
     ]
    }
   ],
   "source": [
    "for symbol in stocks:\n",
    "    print(symbol)\n",
    "    largest_ratio = largest_range_ratio(df=stock_dataframes[symbol], value = 'Adj Close')\n",
    "    print(f\"largest ratio for {symbol} is {largest_ratio}\")"
   ]
  },
  {
   "cell_type": "code",
   "execution_count": 75,
   "metadata": {},
   "outputs": [
    {
     "name": "stdout",
     "output_type": "stream",
     "text": [
      "<class 'pandas.core.frame.DataFrame'>\n",
      "DatetimeIndex: 250 entries, 2023-01-03 to 2023-12-29\n",
      "Data columns (total 6 columns):\n",
      " #   Column     Non-Null Count  Dtype  \n",
      "---  ------     --------------  -----  \n",
      " 0   Open       250 non-null    float64\n",
      " 1   High       250 non-null    float64\n",
      " 2   Low        250 non-null    float64\n",
      " 3   Close      250 non-null    float64\n",
      " 4   Adj Close  250 non-null    float64\n",
      " 5   Volume     250 non-null    int64  \n",
      "dtypes: float64(5), int64(1)\n",
      "memory usage: 13.7 KB\n"
     ]
    }
   ],
   "source": [
    "aapl_df.info()"
   ]
  },
  {
   "cell_type": "code",
   "execution_count": 94,
   "metadata": {},
   "outputs": [
    {
     "data": {
      "text/html": [
       "<div>\n",
       "<style scoped>\n",
       "    .dataframe tbody tr th:only-of-type {\n",
       "        vertical-align: middle;\n",
       "    }\n",
       "\n",
       "    .dataframe tbody tr th {\n",
       "        vertical-align: top;\n",
       "    }\n",
       "\n",
       "    .dataframe thead th {\n",
       "        text-align: right;\n",
       "    }\n",
       "</style>\n",
       "<table border=\"1\" class=\"dataframe\">\n",
       "  <thead>\n",
       "    <tr style=\"text-align: right;\">\n",
       "      <th></th>\n",
       "      <th>Dividends</th>\n",
       "      <th>Stock Splits</th>\n",
       "    </tr>\n",
       "    <tr>\n",
       "      <th>Date</th>\n",
       "      <th></th>\n",
       "      <th></th>\n",
       "    </tr>\n",
       "  </thead>\n",
       "  <tbody>\n",
       "    <tr>\n",
       "      <th>1987-09-21 00:00:00-04:00</th>\n",
       "      <td>0.00</td>\n",
       "      <td>2.0</td>\n",
       "    </tr>\n",
       "    <tr>\n",
       "      <th>1990-04-16 00:00:00-04:00</th>\n",
       "      <td>0.00</td>\n",
       "      <td>2.0</td>\n",
       "    </tr>\n",
       "    <tr>\n",
       "      <th>1991-06-27 00:00:00-04:00</th>\n",
       "      <td>0.00</td>\n",
       "      <td>1.5</td>\n",
       "    </tr>\n",
       "    <tr>\n",
       "      <th>1992-06-15 00:00:00-04:00</th>\n",
       "      <td>0.00</td>\n",
       "      <td>1.5</td>\n",
       "    </tr>\n",
       "    <tr>\n",
       "      <th>1994-05-23 00:00:00-04:00</th>\n",
       "      <td>0.00</td>\n",
       "      <td>2.0</td>\n",
       "    </tr>\n",
       "    <tr>\n",
       "      <th>...</th>\n",
       "      <td>...</td>\n",
       "      <td>...</td>\n",
       "    </tr>\n",
       "    <tr>\n",
       "      <th>2023-02-15 00:00:00-05:00</th>\n",
       "      <td>0.68</td>\n",
       "      <td>0.0</td>\n",
       "    </tr>\n",
       "    <tr>\n",
       "      <th>2023-05-17 00:00:00-04:00</th>\n",
       "      <td>0.68</td>\n",
       "      <td>0.0</td>\n",
       "    </tr>\n",
       "    <tr>\n",
       "      <th>2023-08-16 00:00:00-04:00</th>\n",
       "      <td>0.68</td>\n",
       "      <td>0.0</td>\n",
       "    </tr>\n",
       "    <tr>\n",
       "      <th>2023-11-15 00:00:00-05:00</th>\n",
       "      <td>0.75</td>\n",
       "      <td>0.0</td>\n",
       "    </tr>\n",
       "    <tr>\n",
       "      <th>2024-02-14 00:00:00-05:00</th>\n",
       "      <td>0.75</td>\n",
       "      <td>0.0</td>\n",
       "    </tr>\n",
       "  </tbody>\n",
       "</table>\n",
       "<p>90 rows × 2 columns</p>\n",
       "</div>"
      ],
      "text/plain": [
       "                           Dividends  Stock Splits\n",
       "Date                                              \n",
       "1987-09-21 00:00:00-04:00       0.00           2.0\n",
       "1990-04-16 00:00:00-04:00       0.00           2.0\n",
       "1991-06-27 00:00:00-04:00       0.00           1.5\n",
       "1992-06-15 00:00:00-04:00       0.00           1.5\n",
       "1994-05-23 00:00:00-04:00       0.00           2.0\n",
       "...                              ...           ...\n",
       "2023-02-15 00:00:00-05:00       0.68           0.0\n",
       "2023-05-17 00:00:00-04:00       0.68           0.0\n",
       "2023-08-16 00:00:00-04:00       0.68           0.0\n",
       "2023-11-15 00:00:00-05:00       0.75           0.0\n",
       "2024-02-14 00:00:00-05:00       0.75           0.0\n",
       "\n",
       "[90 rows x 2 columns]"
      ]
     },
     "execution_count": 94,
     "metadata": {},
     "output_type": "execute_result"
    }
   ],
   "source": [
    "msft = yf.Ticker(\"MSFT\")\n",
    "\n",
    "msft.get_actions()"
   ]
  },
  {
   "cell_type": "code",
   "execution_count": 98,
   "metadata": {},
   "outputs": [],
   "source": [
    "hist_msft = msft.history(start='2023-01-01', end='2023-12-31')"
   ]
  },
  {
   "cell_type": "code",
   "execution_count": 102,
   "metadata": {},
   "outputs": [
    {
     "data": {
      "text/plain": [
       "2.79"
      ]
     },
     "execution_count": 102,
     "metadata": {},
     "output_type": "execute_result"
    }
   ],
   "source": [
    "hist_msft[hist_msft['Dividends'] > 0]['Dividends'].sum()"
   ]
  },
  {
   "cell_type": "code",
   "execution_count": 105,
   "metadata": {},
   "outputs": [],
   "source": [
    "tickers_dataframes = {}\n",
    "for symbol in stocks:\n",
    "    data = yf.Ticker(symbol)\n",
    "    hist = data.history(start='2023-01-01', end='2023-12-31')\n",
    "    tickers_dataframes[symbol] = hist"
   ]
  },
  {
   "cell_type": "code",
   "execution_count": 114,
   "metadata": {},
   "outputs": [
    {
     "data": {
      "text/html": [
       "<div>\n",
       "<style scoped>\n",
       "    .dataframe tbody tr th:only-of-type {\n",
       "        vertical-align: middle;\n",
       "    }\n",
       "\n",
       "    .dataframe tbody tr th {\n",
       "        vertical-align: top;\n",
       "    }\n",
       "\n",
       "    .dataframe thead th {\n",
       "        text-align: right;\n",
       "    }\n",
       "</style>\n",
       "<table border=\"1\" class=\"dataframe\">\n",
       "  <thead>\n",
       "    <tr style=\"text-align: right;\">\n",
       "      <th></th>\n",
       "      <th>Open</th>\n",
       "      <th>High</th>\n",
       "      <th>Low</th>\n",
       "      <th>Close</th>\n",
       "      <th>Volume</th>\n",
       "      <th>Dividends</th>\n",
       "      <th>Stock Splits</th>\n",
       "    </tr>\n",
       "    <tr>\n",
       "      <th>Date</th>\n",
       "      <th></th>\n",
       "      <th></th>\n",
       "      <th></th>\n",
       "      <th></th>\n",
       "      <th></th>\n",
       "      <th></th>\n",
       "      <th></th>\n",
       "    </tr>\n",
       "  </thead>\n",
       "  <tbody>\n",
       "    <tr>\n",
       "      <th>2023-12-22 00:00:00-05:00</th>\n",
       "      <td>194.931260</td>\n",
       "      <td>195.160978</td>\n",
       "      <td>192.724085</td>\n",
       "      <td>193.353287</td>\n",
       "      <td>37122800</td>\n",
       "      <td>0.0</td>\n",
       "      <td>0.0</td>\n",
       "    </tr>\n",
       "    <tr>\n",
       "      <th>2023-12-26 00:00:00-05:00</th>\n",
       "      <td>193.363270</td>\n",
       "      <td>193.642911</td>\n",
       "      <td>192.584265</td>\n",
       "      <td>192.803986</td>\n",
       "      <td>28919300</td>\n",
       "      <td>0.0</td>\n",
       "      <td>0.0</td>\n",
       "    </tr>\n",
       "    <tr>\n",
       "      <th>2023-12-27 00:00:00-05:00</th>\n",
       "      <td>192.244692</td>\n",
       "      <td>193.253399</td>\n",
       "      <td>190.846467</td>\n",
       "      <td>192.903839</td>\n",
       "      <td>48087700</td>\n",
       "      <td>0.0</td>\n",
       "      <td>0.0</td>\n",
       "    </tr>\n",
       "    <tr>\n",
       "      <th>2023-12-28 00:00:00-05:00</th>\n",
       "      <td>193.892582</td>\n",
       "      <td>194.411923</td>\n",
       "      <td>192.923817</td>\n",
       "      <td>193.333298</td>\n",
       "      <td>34049900</td>\n",
       "      <td>0.0</td>\n",
       "      <td>0.0</td>\n",
       "    </tr>\n",
       "    <tr>\n",
       "      <th>2023-12-29 00:00:00-05:00</th>\n",
       "      <td>193.652887</td>\n",
       "      <td>194.152249</td>\n",
       "      <td>191.485654</td>\n",
       "      <td>192.284637</td>\n",
       "      <td>42628800</td>\n",
       "      <td>0.0</td>\n",
       "      <td>0.0</td>\n",
       "    </tr>\n",
       "  </tbody>\n",
       "</table>\n",
       "</div>"
      ],
      "text/plain": [
       "                                 Open        High         Low       Close  \\\n",
       "Date                                                                        \n",
       "2023-12-22 00:00:00-05:00  194.931260  195.160978  192.724085  193.353287   \n",
       "2023-12-26 00:00:00-05:00  193.363270  193.642911  192.584265  192.803986   \n",
       "2023-12-27 00:00:00-05:00  192.244692  193.253399  190.846467  192.903839   \n",
       "2023-12-28 00:00:00-05:00  193.892582  194.411923  192.923817  193.333298   \n",
       "2023-12-29 00:00:00-05:00  193.652887  194.152249  191.485654  192.284637   \n",
       "\n",
       "                             Volume  Dividends  Stock Splits  \n",
       "Date                                                          \n",
       "2023-12-22 00:00:00-05:00  37122800        0.0           0.0  \n",
       "2023-12-26 00:00:00-05:00  28919300        0.0           0.0  \n",
       "2023-12-27 00:00:00-05:00  48087700        0.0           0.0  \n",
       "2023-12-28 00:00:00-05:00  34049900        0.0           0.0  \n",
       "2023-12-29 00:00:00-05:00  42628800        0.0           0.0  "
      ]
     },
     "execution_count": 114,
     "metadata": {},
     "output_type": "execute_result"
    }
   ],
   "source": [
    "tickers_dataframes['AAPL'].tail()"
   ]
  },
  {
   "cell_type": "code",
   "execution_count": 127,
   "metadata": {},
   "outputs": [],
   "source": [
    "def dividend_yield(df, adj_close):\n",
    "    dividend_paid = df[df['Dividends'] > 0]['Dividends'].sum()\n",
    "    d_yield = (100 * dividend_paid)/adj_close\n",
    "    return round(d_yield,1)"
   ]
  },
  {
   "cell_type": "code",
   "execution_count": 128,
   "metadata": {},
   "outputs": [
    {
     "name": "stdout",
     "output_type": "stream",
     "text": [
      "2222.SR\n",
      "largest ratio for 2222.SR is 2.8\n",
      "BRK-B\n",
      "largest ratio for BRK-B is 0.0\n",
      "AAPL\n",
      "largest ratio for AAPL is 0.5\n",
      "MSFT\n",
      "largest ratio for MSFT is 0.7\n",
      "GOOG\n",
      "largest ratio for GOOG is 0.0\n",
      "JPM\n",
      "largest ratio for JPM is 2.4\n"
     ]
    }
   ],
   "source": [
    "for symbol in stocks:\n",
    "    print(symbol)\n",
    "    dividend_yield_perc = dividend_yield(df=tickers_dataframes[symbol], adj_close=stock_dataframes[symbol].iloc[-1]['Adj Close'])\n",
    "    print(f\"largest ratio for {symbol} is {dividend_yield_perc}\")"
   ]
  },
  {
   "attachments": {},
   "cell_type": "markdown",
   "metadata": {},
   "source": [
    "Question 6. [Exploratory] Investigate new metrics\n",
    "\n",
    "Free text answer\n",
    "\n",
    "Download and explore a few additional metrics or time series that might be valuable for your project and write down why (briefly)."
   ]
  },
  {
   "attachments": {},
   "cell_type": "markdown",
   "metadata": {},
   "source": [
    "### Do be explored things like income_stmt, balance_sheet, cashflow to understand health of the stock you are trying learn about"
   ]
  }
 ],
 "metadata": {
  "kernelspec": {
   "display_name": "Python 3",
   "language": "python",
   "name": "python3"
  },
  "language_info": {
   "codemirror_mode": {
    "name": "ipython",
    "version": 3
   },
   "file_extension": ".py",
   "mimetype": "text/x-python",
   "name": "python",
   "nbconvert_exporter": "python",
   "pygments_lexer": "ipython3",
   "version": "3.9.18"
  },
  "orig_nbformat": 4
 },
 "nbformat": 4,
 "nbformat_minor": 2
}
